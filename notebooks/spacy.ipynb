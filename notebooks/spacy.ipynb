{
  "nbformat": 4,
  "nbformat_minor": 0,
  "metadata": {
    "colab": {
      "provenance": []
    },
    "kernelspec": {
      "name": "python3",
      "display_name": "Python 3"
    },
    "language_info": {
      "name": "python"
    }
  },
  "cells": [
    {
      "cell_type": "code",
      "execution_count": null,
      "metadata": {
        "id": "nJ3hEpherppb"
      },
      "outputs": [],
      "source": [
        "!pip install -U spacy==3.4"
      ]
    },
    {
      "cell_type": "code",
      "source": [
        "!python -m spacy download \"pt_core_news_lg\" #lg=large, md=medio, sm=small"
      ],
      "metadata": {
        "id": "RK6wqDrMsNz2"
      },
      "execution_count": null,
      "outputs": []
    },
    {
      "cell_type": "code",
      "source": [
        "import spacy\n",
        "\n",
        "nlp = spacy.load(\"pt_core_news_lg\")"
      ],
      "metadata": {
        "id": "611pJ9IguuDw",
        "colab": {
          "base_uri": "https://localhost:8080/"
        },
        "outputId": "28370b5b-77e2-4791-8d5f-20cf9d9d0e9d"
      },
      "execution_count": 3,
      "outputs": [
        {
          "output_type": "stream",
          "name": "stderr",
          "text": [
            "/usr/local/lib/python3.8/dist-packages/torch/cuda/__init__.py:497: UserWarning: Can't initialize NVML\n",
            "  warnings.warn(\"Can't initialize NVML\")\n"
          ]
        }
      ]
    },
    {
      "cell_type": "code",
      "source": [
        "print(type(nlp))"
      ],
      "metadata": {
        "colab": {
          "base_uri": "https://localhost:8080/"
        },
        "id": "uysHcqBeu4kx",
        "outputId": "ded351c8-9646-4bca-9648-fb8ad9dec99b"
      },
      "execution_count": 4,
      "outputs": [
        {
          "output_type": "stream",
          "name": "stdout",
          "text": [
            "<class 'spacy.lang.pt.Portuguese'>\n"
          ]
        }
      ]
    },
    {
      "cell_type": "code",
      "source": [
        "print(nlp.pipe_names)"
      ],
      "metadata": {
        "colab": {
          "base_uri": "https://localhost:8080/"
        },
        "id": "RfkFrfbNvKIy",
        "outputId": "148b7d50-c728-4827-b521-5deb019c02a6"
      },
      "execution_count": 5,
      "outputs": [
        {
          "output_type": "stream",
          "name": "stdout",
          "text": [
            "['tok2vec', 'morphologizer', 'parser', 'lemmatizer', 'attribute_ruler', 'ner']\n"
          ]
        }
      ]
    },
    {
      "cell_type": "code",
      "source": [
        "doc = nlp(\"As açoes da Magazine Luiza esão em queda desde o ultimo ano, desvaloriazando drasticamente nos 6 últimos meses.\")"
      ],
      "metadata": {
        "id": "zLIRXUQZvTZm"
      },
      "execution_count": 14,
      "outputs": []
    },
    {
      "cell_type": "code",
      "source": [
        "type(doc), len(doc), print(type(doc))"
      ],
      "metadata": {
        "colab": {
          "base_uri": "https://localhost:8080/"
        },
        "id": "o_kCC8WRvhIN",
        "outputId": "9e9cdc9c-7dc8-4bb7-b47f-53c6df6ea351"
      },
      "execution_count": 7,
      "outputs": [
        {
          "output_type": "stream",
          "name": "stdout",
          "text": [
            "<class 'spacy.tokens.doc.Doc'>\n"
          ]
        },
        {
          "output_type": "execute_result",
          "data": {
            "text/plain": [
              "(spacy.tokens.doc.Doc, 19, None)"
            ]
          },
          "metadata": {},
          "execution_count": 7
        }
      ]
    },
    {
      "cell_type": "code",
      "source": [
        "for token in doc:\n",
        "  print(token.text)"
      ],
      "metadata": {
        "colab": {
          "base_uri": "https://localhost:8080/"
        },
        "id": "PXFCJ9RdzTSn",
        "outputId": "a51788fe-4f28-4966-e788-b3a52adfde22"
      },
      "execution_count": 8,
      "outputs": [
        {
          "output_type": "stream",
          "name": "stdout",
          "text": [
            "As\n",
            "açoes\n",
            "da\n",
            "Magazine\n",
            "Luiza\n",
            "esão\n",
            "em\n",
            "queda\n",
            "desde\n",
            "o\n",
            "ultimo\n",
            "ano\n",
            ",\n",
            "desvaloriazando\n",
            "drasticamente\n",
            "nos\n",
            "últimos\n",
            "meses\n",
            ".\n"
          ]
        }
      ]
    },
    {
      "cell_type": "code",
      "source": [
        "print(\"Tokens: \", [token.text for token in doc])\n",
        "print(\"Stop Word: \", [token.is_stop for token in doc])\n",
        "print(\"Alfanumérico: \", [token.is_alpha for token in doc])\n",
        "print(\"Maisculo: \", [token.is_upper for token in doc])\n",
        "print(\"Pontuação: \", [token.is_punct for token in doc])\n",
        "print(\"Número: \", [token.like_num for token in doc])\n",
        "print(\"Sentença inicial: \", [token.is_sent_start for token in doc])"
      ],
      "metadata": {
        "colab": {
          "base_uri": "https://localhost:8080/"
        },
        "id": "Du8SykMQzsqB",
        "outputId": "f7f6f0e6-85cc-477a-e43f-84d0a753d450"
      },
      "execution_count": 9,
      "outputs": [
        {
          "output_type": "stream",
          "name": "stdout",
          "text": [
            "Tokens:  ['As', 'açoes', 'da', 'Magazine', 'Luiza', 'esão', 'em', 'queda', 'desde', 'o', 'ultimo', 'ano', ',', 'desvaloriazando', 'drasticamente', 'nos', 'últimos', 'meses', '.']\n",
            "Stop Word:  [True, False, True, False, False, False, True, False, True, True, False, False, False, False, False, True, False, True, False]\n",
            "Alfanumérico:  [True, True, True, True, True, True, True, True, True, True, True, True, False, True, True, True, True, True, False]\n",
            "Maisculo:  [False, False, False, False, False, False, False, False, False, False, False, False, False, False, False, False, False, False, False]\n",
            "Pontuação:  [False, False, False, False, False, False, False, False, False, False, False, False, True, False, False, False, False, False, True]\n",
            "Número:  [False, False, False, False, False, False, False, False, False, False, False, False, False, False, False, False, False, False, False]\n",
            "Sentença inicial:  [True, False, False, False, True, False, False, False, False, False, False, False, False, False, False, False, False, False, False]\n"
          ]
        }
      ]
    },
    {
      "cell_type": "code",
      "source": [
        "print(\"Tokens: \", [token.text for token in doc])\n",
        "print(\"Formato: \", [token.shape_ for token in doc])"
      ],
      "metadata": {
        "colab": {
          "base_uri": "https://localhost:8080/"
        },
        "id": "ULi_06Jq5gyi",
        "outputId": "a7f10eb8-39f9-4134-8a16-d1be1a6b92c4"
      },
      "execution_count": 10,
      "outputs": [
        {
          "output_type": "stream",
          "name": "stdout",
          "text": [
            "Tokens:  ['As', 'açoes', 'da', 'Magazine', 'Luiza', 'esão', 'em', 'queda', 'desde', 'o', 'ultimo', 'ano', ',', 'desvaloriazando', 'drasticamente', 'nos', 'últimos', 'meses', '.']\n",
            "Formato:  ['Xx', 'xxxx', 'xx', 'Xxxxx', 'Xxxxx', 'xxxx', 'xx', 'xxxx', 'xxxx', 'x', 'xxxx', 'xxx', ',', 'xxxx', 'xxxx', 'xxx', 'xxxx', 'xxxx', '.']\n"
          ]
        }
      ]
    },
    {
      "cell_type": "code",
      "source": [
        "for token in doc:\n",
        "  if token.like_num:\n",
        "    print(\"Numero encontrado: \", token.text)\n",
        "  if token.is_punct:\n",
        "    print(\"Pontuação encontrada: \", token.text)"
      ],
      "metadata": {
        "colab": {
          "base_uri": "https://localhost:8080/"
        },
        "id": "d98HWbGDB_2Z",
        "outputId": "7d3c5b53-efcb-4bfb-8b19-14acd0d574d1"
      },
      "execution_count": 15,
      "outputs": [
        {
          "output_type": "stream",
          "name": "stdout",
          "text": [
            "Pontuação encontrada:  ,\n",
            "Numero encontrado:  6\n",
            "Pontuação encontrada:  .\n"
          ]
        }
      ]
    },
    {
      "cell_type": "code",
      "source": [
        "for token in doc:\n",
        "  print(token.text, \" - \", token.pos , \" - \", token.dep_, \" - \", token.lemma_, \" - \", token.shape_)"
      ],
      "metadata": {
        "colab": {
          "base_uri": "https://localhost:8080/"
        },
        "id": "5behlbr9CwbI",
        "outputId": "cfa9d83a-3e3f-412d-9e73-b004ba09f25f"
      },
      "execution_count": 18,
      "outputs": [
        {
          "output_type": "stream",
          "name": "stdout",
          "text": [
            "As  -  90  -  det  -  o  -  Xx\n",
            "açoes  -  92  -  ROOT  -  açoe  -  xxxx\n",
            "da  -  85  -  case  -  de o  -  xx\n",
            "Magazine  -  96  -  nmod  -  Magazine  -  Xxxxx\n",
            "Luiza  -  96  -  ROOT  -  Luiza  -  Xxxxx\n",
            "esão  -  92  -  flat:name  -  esão  -  xxxx\n",
            "em  -  85  -  case  -  em  -  xx\n",
            "queda  -  92  -  nmod  -  queda  -  xxxx\n",
            "desde  -  85  -  case  -  desde  -  xxxx\n",
            "o  -  90  -  det  -  o  -  x\n",
            "ultimo  -  84  -  amod  -  ultimo  -  xxxx\n",
            "ano  -  92  -  nmod  -  ano  -  xxx\n",
            ",  -  97  -  punct  -  ,  -  ,\n",
            "desvaloriazando  -  100  -  advcl  -  desvaloriazar  -  xxxx\n",
            "drasticamente  -  86  -  advmod  -  drasticamente  -  xxxx\n",
            "nos  -  85  -  case  -  em o  -  xxx\n",
            "6  -  93  -  nummod  -  6  -  d\n",
            "últimos  -  84  -  amod  -  último  -  xxxx\n",
            "meses  -  92  -  obl  -  mês  -  xxxx\n",
            ".  -  97  -  punct  -  .  -  .\n"
          ]
        }
      ]
    },
    {
      "cell_type": "code",
      "source": [
        "for token in doc:\n",
        "  print(token.text, \" - \", token.morph)"
      ],
      "metadata": {
        "colab": {
          "base_uri": "https://localhost:8080/"
        },
        "id": "JTaRagXqIcvv",
        "outputId": "52f94bf4-cb6a-47a3-c32d-ec91ef6b2f93"
      },
      "execution_count": 19,
      "outputs": [
        {
          "output_type": "stream",
          "name": "stdout",
          "text": [
            "As  -  Definite=Def|Gender=Fem|Number=Plur|PronType=Art\n",
            "açoes  -  Gender=Fem|Number=Plur\n",
            "da  -  Definite=Def|Gender=Fem|Number=Sing|PronType=Art\n",
            "Magazine  -  Gender=Fem|Number=Sing\n",
            "Luiza  -  Gender=Fem|Number=Sing\n",
            "esão  -  Gender=Fem|Number=Sing\n",
            "em  -  \n",
            "queda  -  Gender=Fem|Number=Sing\n",
            "desde  -  \n",
            "o  -  Definite=Def|Gender=Masc|Number=Sing|PronType=Art\n",
            "ultimo  -  Gender=Masc|NumType=Ord|Number=Sing\n",
            "ano  -  Gender=Masc|Number=Sing\n",
            ",  -  \n",
            "desvaloriazando  -  VerbForm=Ger\n",
            "drasticamente  -  \n",
            "nos  -  Definite=Def|Gender=Masc|Number=Plur|PronType=Art\n",
            "6  -  NumType=Card\n",
            "últimos  -  Gender=Masc|NumType=Ord|Number=Plur\n",
            "meses  -  Gender=Masc|Number=Plur\n",
            ".  -  \n"
          ]
        }
      ]
    },
    {
      "cell_type": "code",
      "source": [
        "for token in doc:\n",
        "  print(token.text, \" - \", token.tag_)"
      ],
      "metadata": {
        "colab": {
          "base_uri": "https://localhost:8080/"
        },
        "id": "l73j_JF-I2zk",
        "outputId": "650477d2-a46b-446a-b0f8-0f262e382c69"
      },
      "execution_count": 20,
      "outputs": [
        {
          "output_type": "stream",
          "name": "stdout",
          "text": [
            "As  -  DET\n",
            "açoes  -  NOUN\n",
            "da  -  ADP\n",
            "Magazine  -  PROPN\n",
            "Luiza  -  PROPN\n",
            "esão  -  NOUN\n",
            "em  -  ADP\n",
            "queda  -  NOUN\n",
            "desde  -  ADP\n",
            "o  -  DET\n",
            "ultimo  -  ADJ\n",
            "ano  -  NOUN\n",
            ",  -  PUNCT\n",
            "desvaloriazando  -  VERB\n",
            "drasticamente  -  ADV\n",
            "nos  -  ADP\n",
            "6  -  NUM\n",
            "últimos  -  ADJ\n",
            "meses  -  NOUN\n",
            ".  -  PUNCT\n"
          ]
        }
      ]
    }
  ]
}